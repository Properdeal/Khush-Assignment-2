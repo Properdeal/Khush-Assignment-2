{
 "cells": [
  {
   "cell_type": "code",
   "execution_count": 20,
   "id": "153656f8",
   "metadata": {},
   "outputs": [
    {
     "name": "stdout",
     "output_type": "stream",
     "text": [
      "35\n"
     ]
    }
   ],
   "source": [
    "# 1 (a)\n",
    "\n",
    "name = \"Python is a case sensitive language\"\n",
    "print(len(name))\n"
   ]
  },
  {
   "cell_type": "code",
   "execution_count": 8,
   "id": "6a9bcad8",
   "metadata": {},
   "outputs": [
    {
     "name": "stdout",
     "output_type": "stream",
     "text": [
      "egaugnal evitisnes esac a si nohtyP\n"
     ]
    }
   ],
   "source": [
    "# 1 (b)\n",
    "\n",
    "str2 = name[::-1]\n",
    "print(str2)"
   ]
  },
  {
   "cell_type": "code",
   "execution_count": 9,
   "id": "eb0f18dc",
   "metadata": {},
   "outputs": [
    {
     "name": "stdout",
     "output_type": "stream",
     "text": [
      "a case sensitive language\n"
     ]
    }
   ],
   "source": [
    "# 1 (c)\n",
    "\n",
    "s1 = slice(10,35)\n",
    "print(name[s1])"
   ]
  },
  {
   "cell_type": "code",
   "execution_count": 10,
   "id": "eb2b1398",
   "metadata": {},
   "outputs": [
    {
     "name": "stdout",
     "output_type": "stream",
     "text": [
      "Python is object oriented language\n"
     ]
    }
   ],
   "source": [
    "# 1 (d)\n",
    "\n",
    "name2 = name.replace(\"a case sensitive\",\"object oriented\")\n",
    "print(name2)"
   ]
  },
  {
   "cell_type": "code",
   "execution_count": 11,
   "id": "569cbf5c",
   "metadata": {},
   "outputs": [
    {
     "name": "stdout",
     "output_type": "stream",
     "text": [
      "10\n"
     ]
    }
   ],
   "source": [
    "# 1 (e\n",
    "\n",
    "print(name.find('a'))"
   ]
  },
  {
   "cell_type": "code",
   "execution_count": 12,
   "id": "869ff852",
   "metadata": {},
   "outputs": [
    {
     "name": "stdout",
     "output_type": "stream",
     "text": [
      "Pythonisacasesensitivelanguage\n"
     ]
    }
   ],
   "source": [
    "# 1 (f)\n",
    "\n",
    "str3 = name.replace(\" \",\"\")\n",
    "print(str3)"
   ]
  },
  {
   "cell_type": "code",
   "execution_count": 21,
   "id": "82489540",
   "metadata": {},
   "outputs": [
    {
     "name": "stdout",
     "output_type": "stream",
     "text": [
      "Hey,Khush Gupta Here! \n",
      "My SID is 22105071 \n",
      "I am from ECE department and my CGPA is 9\n"
     ]
    }
   ],
   "source": [
    "# 2\n",
    "\n",
    "name ='Khush Gupta'\n",
    "sid = '22105071'\n",
    "depatment_name = 'ECE'\n",
    "cgpa = '9'\n",
    "# printing a para using different variables.\n",
    "print(f\"Hey,{name} Here! \\nMy SID is {sid} \\nI am from {depatment_name} department and my CGPA is {cgpa}\")"
   ]
  },
  {
   "cell_type": "code",
   "execution_count": 14,
   "id": "09c0b1b2",
   "metadata": {},
   "outputs": [
    {
     "name": "stdout",
     "output_type": "stream",
     "text": [
      "a & b =  8\n",
      "a|b =  58\n",
      "a^b =  50\n",
      "224\n",
      "40\n",
      "14\n",
      "0\n"
     ]
    }
   ],
   "source": [
    "# 3\n",
    "\n",
    "a =  56\n",
    "b = 10 \n",
    "# Using Bitwise Operators\n",
    "print(\"a & b = \",a&b)\n",
    "print(\"a|b = \",a|b)\n",
    "print(\"a^b = \",a^b)\n",
    "print(a<<2)\n",
    "print(b<<2)\n",
    "print(a>>2)\n",
    "print(b>>4)"
   ]
  },
  {
   "cell_type": "code",
   "execution_count": 15,
   "id": "9d6e56ee",
   "metadata": {},
   "outputs": [
    {
     "name": "stdout",
     "output_type": "stream",
     "text": [
      "enter your 1st number :10\n",
      "enter your 2nd number :50\n",
      "enter your 3rd number :22\n",
      "50 is greatest\n"
     ]
    }
   ],
   "source": [
    "# 4\n",
    "\n",
    "num1 = int(input(\"enter your 1st number :\"))\n",
    "num2 = int(input(\"enter your 2nd number :\"))\n",
    "num3 = int(input(\"enter your 3rd number :\"))\n",
    "if num1>num2 and num1>num3:\n",
    "    print(f\"{num1} is greatest\")\n",
    "elif num2>num3 and num2>num1:\n",
    "    print(f\"{num2} is greatest\")\n",
    "elif num3>num1 and num3>num2:\n",
    "    print(f\"{num3} is greatest\")\n",
    "elif num2== num3 and num3==num1:\n",
    "    print(\"all numbers are equal\")\n",
    "elif num1 ==num2:\n",
    "    print(f\"number 1 and 2 both are equal\")\n",
    "elif num2 == num3:\n",
    "    print(\"number 2 and 3 both are equal\")\n",
    "elif num1 ==  num3:\n",
    "    print(\"number 1 and 3 both are equal\")\n",
    "else:\n",
    "    print(f\"{num3} is greatest\")\n"
   ]
  },
  {
   "cell_type": "code",
   "execution_count": 16,
   "id": "2327e705",
   "metadata": {},
   "outputs": [
    {
     "name": "stdout",
     "output_type": "stream",
     "text": [
      "enter here : 55\n",
      "no, 'name' word is there\n"
     ]
    }
   ],
   "source": [
    "# 5\n",
    "\n",
    "line = input(\"enter here : \")\n",
    "if line.find('name') != -1:\n",
    "    print(\"yes,'name' word is there\")\n",
    "else:\n",
    "    print(\"no, 'name' word is there\")"
   ]
  },
  {
   "cell_type": "code",
   "execution_count": 19,
   "id": "ccb4a4b7",
   "metadata": {},
   "outputs": [
    {
     "name": "stdout",
     "output_type": "stream",
     "text": [
      "enter your 1st line :11\n",
      "enter your 2nd line :11\n",
      "enter your 3rd line :11\n",
      "yes, formation of triangle is possible\n"
     ]
    }
   ],
   "source": [
    "# 6\n",
    "\n",
    "line1 = int(input(\"enter your 1st line :\"))\n",
    "line2 = int(input(\"enter your 2nd line :\"))\n",
    "line3 = int(input(\"enter your 3rd line :\"))\n",
    "# Checking that the triangle is possible or not.\n",
    "if line1 == (line2 +line3):\n",
    "    print(\"no, formation of triangle is not possible\")\n",
    "elif line2 == (line1+line3):\n",
    "    print(\"no, formation of triangle is not possible\")\n",
    "elif line3 ==(line2 +line1):\n",
    "    print(\"no, formation of triangle is not possible\")\n",
    "elif line1 < (line2 +line3):\n",
    "    print(\"yes, formation of triangle is possible\")\n",
    "elif line2 < (line1 +line3):\n",
    "    print(\"yes, formation of triangle is possible\")\n",
    "elif line3 < (line2 +line1):\n",
    "    print(\"yes, formation of triangle is possible\")\n",
    "\n",
    "else:\n",
    "    print(\"no, formation of triangle is not possible\")"
   ]
  },
  {
   "cell_type": "code",
   "execution_count": null,
   "id": "f1da2750",
   "metadata": {},
   "outputs": [],
   "source": []
  }
 ],
 "metadata": {
  "kernelspec": {
   "display_name": "Python 3 (ipykernel)",
   "language": "python",
   "name": "python3"
  },
  "language_info": {
   "codemirror_mode": {
    "name": "ipython",
    "version": 3
   },
   "file_extension": ".py",
   "mimetype": "text/x-python",
   "name": "python",
   "nbconvert_exporter": "python",
   "pygments_lexer": "ipython3",
   "version": "3.9.13"
  }
 },
 "nbformat": 4,
 "nbformat_minor": 5
}
